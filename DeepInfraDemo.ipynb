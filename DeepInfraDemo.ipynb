{
  "nbformat": 4,
  "nbformat_minor": 0,
  "metadata": {
    "colab": {
      "provenance": []
    },
    "kernelspec": {
      "name": "python3",
      "display_name": "Python 3"
    },
    "language_info": {
      "name": "python"
    }
  },
  "cells": [
    {
      "cell_type": "code",
      "execution_count": null,
      "metadata": {
        "id": "tEDPKpszFbbd",
        "collapsed": true
      },
      "outputs": [],
      "source": [
        "pip install langchain"
      ]
    },
    {
      "cell_type": "code",
      "source": [
        "pip install --upgrade google-api-python-client google-auth-httplib2 google-auth-oauthlib"
      ],
      "metadata": {
        "id": "kUVhe4vqU1Zf",
        "collapsed": true
      },
      "execution_count": null,
      "outputs": []
    },
    {
      "cell_type": "code",
      "source": [
        "pip install --upgrade --quiet langchain-google-community[drive]"
      ],
      "metadata": {
        "id": "SduONebYGG2V",
        "collapsed": true
      },
      "execution_count": null,
      "outputs": []
    },
    {
      "cell_type": "code",
      "source": [
        "from langchain.document_loaders import GoogleDriveLoader\n",
        "import os\n",
        "from langchain_google_community import GoogleDriveLoader\n",
        "from langchain_community.document_loaders import UnstructuredFileIOLoader"
      ],
      "metadata": {
        "id": "7eV8hCT4FzAY"
      },
      "execution_count": null,
      "outputs": []
    },
    {
      "cell_type": "code",
      "source": [
        "GOOGLE_APPLICATION_CREDENTIALS=\"\"\n",
        "from getpass import getpass\n",
        "DEEPINFRA_API_TOKEN = getpass()"
      ],
      "metadata": {
        "id": "M3Pi4tomE_jS"
      },
      "execution_count": null,
      "outputs": []
    },
    {
      "cell_type": "markdown",
      "source": [
        "# Google Authentication"
      ],
      "metadata": {
        "id": "ZW20i2YgkYIe"
      }
    },
    {
      "cell_type": "code",
      "source": [
        "from google.colab import auth\n",
        "auth.authenticate_user()\n",
        "from googleapiclient.discovery import build\n",
        "drive_service = build('drive', 'v3')\n"
      ],
      "metadata": {
        "id": "AveeMnx-GgkV"
      },
      "execution_count": null,
      "outputs": []
    },
    {
      "cell_type": "markdown",
      "source": [
        "# Setting up the llm and taking in the google doc"
      ],
      "metadata": {
        "id": "K0t18PR1kb-h"
      }
    },
    {
      "cell_type": "code",
      "source": [
        "os.environ[\"DEEPINFRA_API_TOKEN\"] = DEEPINFRA_API_TOKEN\n",
        "from langchain_community.llms import DeepInfra\n",
        "SCOPES = [\"https://www.googleapis.com/auth/drive.metadata.readonly\"]\n",
        "\n",
        "llm = DeepInfra(model_id=\"meta-llama/Meta-Llama-3-70B-Instruct\")\n",
        "llm.model_kwargs = {\n",
        "    \"temperature\": 0.5,\n",
        "    \"repetition_penalty\": 1.2,\n",
        "    \"max_new_tokens\": 250,\n",
        "    \"top_p\": 0.9,\n",
        "}\n",
        "doc_id = \"\" #Put your Doc ID here\n",
        "loader = GoogleDriveLoader(\n",
        "    document_ids=[doc_id],\n",
        "    credentials_path = \"/content/credentials.json\",\n",
        ")\n"
      ],
      "metadata": {
        "id": "dQh79Qz3Fpl0"
      },
      "execution_count": null,
      "outputs": []
    },
    {
      "cell_type": "code",
      "source": [
        "docs=loader.load()"
      ],
      "metadata": {
        "id": "-NngGSedHM7j"
      },
      "execution_count": null,
      "outputs": []
    },
    {
      "cell_type": "markdown",
      "source": [
        "# Summarizes the document"
      ],
      "metadata": {
        "id": "uY6JfXv1kmzl"
      }
    },
    {
      "cell_type": "code",
      "source": [
        "from langchain.chains.summarize import load_summarize_chain\n"
      ],
      "metadata": {
        "id": "T2SNE5yecIBM"
      },
      "execution_count": null,
      "outputs": []
    },
    {
      "cell_type": "code",
      "source": [
        "chain =load_summarize_chain(llm, chain_type=\"map_reduce\", verbose=False)\n",
        "chain.run(docs)"
      ],
      "metadata": {
        "id": "8ZWXgkMIbFMT"
      },
      "execution_count": null,
      "outputs": []
    },
    {
      "cell_type": "markdown",
      "source": [
        "# You can ask whatever queries you want"
      ],
      "metadata": {
        "id": "aLZFpZeDks7Z"
      }
    },
    {
      "cell_type": "code",
      "source": [
        "from langchain.chains.question_answering import load_qa_chain"
      ],
      "metadata": {
        "id": "CJsk4gYBcQ1o"
      },
      "execution_count": null,
      "outputs": []
    },
    {
      "cell_type": "code",
      "source": [
        "query=\"\" #input your query here"
      ],
      "metadata": {
        "id": "vcPcc4FGfyov"
      },
      "execution_count": null,
      "outputs": []
    },
    {
      "cell_type": "code",
      "source": [
        "chain=load_qa_chain(llm, chain_type=\"stuff\")\n",
        "chain.run(input_documents=docs, question=query)"
      ],
      "metadata": {
        "id": "gx99UlIqiH8o"
      },
      "execution_count": null,
      "outputs": []
    },
    {
      "cell_type": "markdown",
      "source": [],
      "metadata": {
        "id": "78hG8N-_Trh6"
      }
    }
  ]
}